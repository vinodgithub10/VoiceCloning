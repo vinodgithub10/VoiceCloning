{
  "nbformat": 4,
  "nbformat_minor": 0,
  "metadata": {
    "colab": {
      "provenance": []
    },
    "kernelspec": {
      "name": "python3",
      "display_name": "Python 3"
    },
    "language_info": {
      "name": "python"
    }
  },
  "cells": [
    {
      "cell_type": "code",
      "source": [
        "from google.colab import drive\n",
        "drive.mount('/content/drive')"
      ],
      "metadata": {
        "colab": {
          "base_uri": "https://localhost:8080/"
        },
        "id": "j7fNfMxtAc6u",
        "outputId": "791d8825-76b8-427b-af49-09d9cbbda785"
      },
      "execution_count": 1,
      "outputs": [
        {
          "output_type": "stream",
          "name": "stdout",
          "text": [
            "Mounted at /content/drive\n"
          ]
        }
      ]
    },
    {
      "cell_type": "code",
      "execution_count": 43,
      "metadata": {
        "colab": {
          "base_uri": "https://localhost:8080/"
        },
        "id": "VFFI80G1vLM4",
        "outputId": "a6a8602c-3268-4b32-827d-716cfbd5500d"
      },
      "outputs": [
        {
          "output_type": "stream",
          "name": "stdout",
          "text": [
            "Translated Speech Saved as translated_speech.mp3\n"
          ]
        }
      ],
      "source": [
        "import speech_recognition as sr\n",
        "from gtts import gTTS\n",
        "from googletrans import Translator\n",
        "\n",
        "# Initialize the recognizer\n",
        "recognizer = sr.Recognizer()\n",
        "\n",
        "# Load the WAV audio file\n",
        "wav_audio_file_path = \"/content/drive/MyDrive/Voice_cloning/Sundar Pichai Commencement Speech.wav\"\n",
        "\n",
        "# Adjust recognizer sensitivity to ambient noise\n",
        "with sr.AudioFile(wav_audio_file_path) as source:\n",
        "    recognizer.adjust_for_ambient_noise(source)\n",
        "\n",
        "# Record the audio data from the file\n",
        "with sr.AudioFile(wav_audio_file_path) as source:\n",
        "    audio_data = recognizer.record(source)\n",
        "\n",
        "# Recognize the speech in the audio data\n",
        "audio_text = recognizer.recognize_google(audio_data, language=\"en-US\")\n",
        "\n",
        "# Translate the English text to Hindi\n",
        "translator = Translator()\n",
        "translated_text = translator.translate(audio_text, src=\"en\", dest=\"hi\").text\n",
        "\n",
        "# Convert the translated text to a voice note in Hindi\n",
        "tts = gTTS(translated_text, lang=\"hi\", slow=False)  # Adjust the 'slow' parameter for speed\n",
        "tts.save(\"translated_speech.mp3\")\n",
        "print(\"Translated Speech Saved as translated_speech.mp3\")\n"
      ]
    },
    {
      "cell_type": "code",
      "source": [
        "from google.colab import files\n",
        "\n",
        "# Create a download link for the file\n",
        "files.download('translated_speech.mp3')\n"
      ],
      "metadata": {
        "colab": {
          "base_uri": "https://localhost:8080/",
          "height": 17
        },
        "id": "W0TUbJU8A_LO",
        "outputId": "262b7cd6-2473-4b7d-bad1-c22088fe2208"
      },
      "execution_count": 44,
      "outputs": [
        {
          "output_type": "display_data",
          "data": {
            "text/plain": [
              "<IPython.core.display.Javascript object>"
            ],
            "application/javascript": [
              "\n",
              "    async function download(id, filename, size) {\n",
              "      if (!google.colab.kernel.accessAllowed) {\n",
              "        return;\n",
              "      }\n",
              "      const div = document.createElement('div');\n",
              "      const label = document.createElement('label');\n",
              "      label.textContent = `Downloading \"${filename}\": `;\n",
              "      div.appendChild(label);\n",
              "      const progress = document.createElement('progress');\n",
              "      progress.max = size;\n",
              "      div.appendChild(progress);\n",
              "      document.body.appendChild(div);\n",
              "\n",
              "      const buffers = [];\n",
              "      let downloaded = 0;\n",
              "\n",
              "      const channel = await google.colab.kernel.comms.open(id);\n",
              "      // Send a message to notify the kernel that we're ready.\n",
              "      channel.send({})\n",
              "\n",
              "      for await (const message of channel.messages) {\n",
              "        // Send a message to notify the kernel that we're ready.\n",
              "        channel.send({})\n",
              "        if (message.buffers) {\n",
              "          for (const buffer of message.buffers) {\n",
              "            buffers.push(buffer);\n",
              "            downloaded += buffer.byteLength;\n",
              "            progress.value = downloaded;\n",
              "          }\n",
              "        }\n",
              "      }\n",
              "      const blob = new Blob(buffers, {type: 'application/binary'});\n",
              "      const a = document.createElement('a');\n",
              "      a.href = window.URL.createObjectURL(blob);\n",
              "      a.download = filename;\n",
              "      div.appendChild(a);\n",
              "      a.click();\n",
              "      div.remove();\n",
              "    }\n",
              "  "
            ]
          },
          "metadata": {}
        },
        {
          "output_type": "display_data",
          "data": {
            "text/plain": [
              "<IPython.core.display.Javascript object>"
            ],
            "application/javascript": [
              "download(\"download_6f3b9ced-2296-4a8f-a342-78da46133f08\", \"translated_speech.mp3\", 211968)"
            ]
          },
          "metadata": {}
        }
      ]
    },
    {
      "cell_type": "code",
      "source": [],
      "metadata": {
        "id": "QV8c1w8OPXAO"
      },
      "execution_count": null,
      "outputs": []
    }
  ]
}